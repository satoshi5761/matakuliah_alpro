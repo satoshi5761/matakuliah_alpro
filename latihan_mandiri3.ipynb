{
 "cells": [
  {
   "cell_type": "code",
   "execution_count": null,
   "metadata": {},
   "outputs": [],
   "source": [
    "\"\"\"\n",
    "Latihan 3.1 Implementasikan penanganan kesalahan input pengguna dari program-program\n",
    "pada Contoh 3.1\n",
    "\"\"\"\n",
    "suhu = input(\"Masukkan suhu tubuh: \") # input menjadi string\n",
    "try:\n",
    "\tsuhu = int(suhu) # konversi int\n",
    "\tif suhu >= 38:\n",
    "\t\tprint(\"Anda demam\")\n",
    "\telse:\n",
    "\t\tprint(\"Tidak demam\")\n",
    "except: # kasus try gagal\n",
    "\tprint(\"input salah\")\n",
    "\n",
    "print('=' * 30)"
   ]
  },
  {
   "cell_type": "code",
   "execution_count": null,
   "metadata": {},
   "outputs": [],
   "source": [
    "# Contoh 3.2 \n",
    "bilangan = input(\"Masukkan suatu bilangan: \") # input menjadi string\n",
    "try:\n",
    "\tbilangan = int(bilangan) # konversi int\n",
    "\tif bilangan > 0:\n",
    "\t\tprint(\"Positif\")\n",
    "\telif bilangan < 0:\n",
    "\t\tprint(\"Negatif\")\n",
    "\telif bilangan == 0:\n",
    "\t\tprint(\"Nol\")\n",
    "except: # kasus try gagal\n",
    "\tprint(\"input salah\")\n",
    "\n",
    "print('=' * 30)\n"
   ]
  },
  {
   "cell_type": "code",
   "execution_count": null,
   "metadata": {},
   "outputs": [],
   "source": [
    "# Contoh 3.3\n",
    "# input a, b dan c\n",
    "a = input(\"Masukkan bilangan pertama: \")\n",
    "b = input(\"Masukkan bilangan kedua: \")\n",
    "c = input(\"Masukkan bilangan ketiga: \")\n",
    "\n",
    "# secara berurutan tulis kriteria untuk a, b, dan c\n",
    "try:\n",
    "\ta, b, c = int(a), int(b), int(c) # konversi int\n",
    "\tif a > b and a > c:\n",
    "\t\tprint(\"Terbesar: \", a)\n",
    "\telif b > a and b > c:\n",
    "\t\tprint(\"Terbesar: \", b)\n",
    "\telif c > a and c > b:\n",
    "\t\tprint(\"Terbesar: \", c)\n",
    "except: # jika konversi gagal maka\n",
    "\tprint(\"input salah\")\n",
    "\n",
    "print('=' * 30)"
   ]
  },
  {
   "cell_type": "code",
   "execution_count": null,
   "metadata": {},
   "outputs": [],
   "source": []
  },
  {
   "cell_type": "code",
   "execution_count": null,
   "metadata": {},
   "outputs": [],
   "source": [
    "\"\"\"\n",
    "Latihan 3.2 Implementasikan percabangan pada Contoh 3.2 (Positif-Negatif) menggunakan\n",
    "ternary operator.\n",
    "\"\"\"\n",
    "\n",
    "bilangan = int(input(\"Masukkan suatu bilangan: \")) \n",
    "print(\"Positif\" if bilangan > 0 else \"Negatif\" if bilangan < 0 else \"Nol\")\n",
    "\n",
    "print('=' * 30)"
   ]
  },
  {
   "cell_type": "code",
   "execution_count": null,
   "metadata": {},
   "outputs": [],
   "source": [
    "\"\"\"\n",
    "Latihan 3.3 Buatlah sebuah program yang dapat menampilkan jumlah hari dalam suatu bulan di\n",
    "tahun 2020. Program meminta pengguna memasukkan nomor bulan (1-12), kemudian program\n",
    "akan menampilkan jumlah hari pada bulan tersebut. Sebagai contoh, perhatikan input dan output\n",
    "berikut ini:\n",
    "Masukkan bulan (1-12): 7\n",
    "Jumlah hari: 31\n",
    "Lengkapi program tersebut dengan penanganan kesalahan jika pengguna memasukkan bulan\n",
    "yang salah. Penanganan kesalahan dalam bentuk memunculkan pesan bahwa bulan yang\n",
    "diinputkan oleh pengguna tersebut tidak valid.\n",
    "\"\"\"\n",
    "\n",
    "bulan_ke = input(\"Masukkan bulan (1-12): \")\n",
    "try:\n",
    "\tbulan_ke = int(bulan_ke)\n",
    "\tif 1 <= bulan_ke <= 12:\n",
    "\t\tif bulan_ke == 2:\n",
    "\t\t\tprint(29)\n",
    "\t\telif bulan_ke % 2:\n",
    "\t\t\tprint(31)\n",
    "\t\telse:\n",
    "\t\t\tprint(30)\n",
    "\telse:\n",
    "\t\tprint(\"invalid\")\n",
    "except: # jika error\n",
    "\tprint(\"invalid\")\n",
    "\n",
    "print('=' * 30)"
   ]
  },
  {
   "cell_type": "code",
   "execution_count": null,
   "metadata": {},
   "outputs": [],
   "source": [
    "\"\"\"\n",
    "Latihan 3.4 Sebuah program meminta pengguna memasukkan ketiga panjang sisi suatu segitiga\n",
    "(berarti pengguna memasukkan tiga bilangan). Jika ketiga sisi segitiga tersebut semuanya sama,\n",
    "tampilkan pesan: \"3 sisi sama\". Jika hanya ada dua sisi yang sama panjang, tampilkan pesan \"2\n",
    "sisi sama\". Jika tidak ada yang sama maka tampilkan pesan: \"Tidak ada yang sama\". Sebagai\n",
    "contoh, perhatikan input dan output berikut ini:\n",
    "\"\"\"\n",
    "\n",
    "x, y, z = input(\"Masukkan sisi 1: \"), input(\"Masukkan sisi 2: \"), \\\n",
    "\t\t\tinput(\"Masukkan sisi 3: \")\n",
    "\n",
    "try:\n",
    "\tx, y, z = int(x), int(y), int(z)\n",
    "\tif x == y == z:\n",
    "\t\tprint(\"3 sisi sama\")\n",
    "\telif x == y or x == z or y == z:\n",
    "\t\tprint(\"2 sisi sama\")\n",
    "\telse:\n",
    "\t\tprint(\"Tidak ada yang sama\")\n",
    "except: # jika error\n",
    "\tprint(\"input salah\")\n"
   ]
  }
 ],
 "metadata": {
  "kernelspec": {
   "display_name": "Python 3",
   "language": "python",
   "name": "python3"
  },
  "language_info": {
   "codemirror_mode": {
    "name": "ipython",
    "version": 3
   },
   "file_extension": ".py",
   "mimetype": "text/x-python",
   "name": "python",
   "nbconvert_exporter": "python",
   "pygments_lexer": "ipython3",
   "version": "3.11.8"
  }
 },
 "nbformat": 4,
 "nbformat_minor": 2
}
