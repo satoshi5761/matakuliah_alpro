{
 "cells": [
  {
   "cell_type": "code",
   "execution_count": 18,
   "metadata": {},
   "outputs": [
    {
     "name": "stdout",
     "output_type": "stream",
     "text": [
      "1945-08-17 menjadi 17-08-1945 dengan selisih 28777 hari\n",
      "1785-11-11 menjadi 11-11-1785 dengan selisih 87129 hari\n",
      "1783-06-08 menjadi 08-06-1783 dengan selisih 88016 hari\n",
      "1889-05-02 menjadi 02-05-1889 dengan selisih 49337 hari\n"
     ]
    }
   ],
   "source": [
    "\"\"\"\n",
    "Latihan 14.1 Anda diminta untuk mencari seluruh teks yang berupa tanggal dengan format\n",
    "YYYY-MM-DD dan kemudian seluruh tanggal tersebut diambil dan ditampilkan kembali dalam\n",
    "format DD-MM-YYYY ditambah dengan perhitungan selisih dengan tanggal sekarang dalam\n",
    "hari.\n",
    "Contoh:\n",
    "Pada tanggal 1945-08-17 Indonesia merdeka. Indonesia memiliki beberapa pahlawan\n",
    "nasional, seperti Pangeran Diponegoro (TL: 1785-11-11), Pattimura (TL: 1783-06-08) dan Ki\n",
    "Hajar Dewantara (1889-05-02).\n",
    "Hasil:\n",
    "1945-08-17 00:00:00 selisih 27209 hari\n",
    "1785-11-11 00:00:00 selisih 85561 hari\n",
    "1783-06-08 00:00:00 selisih 86448 hari\n",
    "1889-05-02 00:00:00 selisih 47769 hari\n",
    "\"\"\"\n",
    "import re\n",
    "from datetime import datetime\n",
    "\n",
    "txt = \"\"\"\n",
    "Pada tanggal 1945-08-17 Indonesia merdeka. Indonesia memiliki beberapa pahlawan\n",
    "nasional, seperti Pangeran Diponegoro (TL: 1785-11-11),\n",
    "Pattimura (TL: 1783-06-08) dan KiHajar Dewantara (1889-05-02)\n",
    "\"\"\"\n",
    "lst = re.findall(\"([0-9]{4})-([0-9]{2})-([0-9]{2})\", txt)\n",
    "hari_ini = datetime.now()\n",
    "\n",
    "# ubah ke format DD-MM-YYYY\n",
    "for date in lst:\n",
    "    YYYY, MM, DD = date\n",
    "    formatted = f\"{DD}-{MM}-{YYYY}\"\n",
    "    x = datetime.strptime(formatted, \"%d-%m-%Y\")\n",
    "    selisih = (hari_ini - x).days\n",
    "\n",
    "    print(f\"{'-'.join(date)} menjadi {formatted} dengan selisih {selisih} hari\")\n",
    "\n"
   ]
  },
  {
   "cell_type": "code",
   "execution_count": 51,
   "metadata": {},
   "outputs": [
    {
     "name": "stdout",
     "output_type": "stream",
     "text": [
      "anton@mail.com username: anton, password: J2c8F7x4\n",
      "budi@gmail.co.id username: budi, password: k5M7I8Z7\n",
      "slamet@getnada.com username: slamet, password: W9l6O8e2\n",
      "matahari@tokopedia.com username: matahari, password: I3g7n1j3\n"
     ]
    }
   ],
   "source": [
    "\"\"\"\n",
    "Latihan 14.2 Anda diminta untuk mencari seluruh teks yang berupa email dan kemudian ambil\n",
    "semua username dari email tersebut untuk digenerate password random 8 karakter yang terdiri\n",
    "dari angka dan huru\n",
    "\"\"\"\n",
    "import string\n",
    "import random\n",
    "\n",
    "\n",
    "txt = \"\"\"\n",
    "Berikut adalah daftar email dan nama pengguna dari mailing list:\n",
    "anton@mail.com dimiliki oleh antonius\n",
    "budi@gmail.co.id dimiliki oleh budi anwari\n",
    "slamet@getnada.com dimiliki oleh slamet slumut\n",
    "matahari@tokopedia.com dimiliki oleh toko matahari\n",
    "\"\"\"\n",
    "def get_password():\n",
    "    res = \"\"\n",
    "    for i in range(4):\n",
    "        x = random.choice(string.ascii_letters)\n",
    "        y = random.choice(string.digits)\n",
    "        res += x + y\n",
    "    return res\n",
    "\n",
    "import re\n",
    "new_txt = open(\"mbox-short.txt\").read()\n",
    "email_pattern = \"[A-Za-z0-9._%+-]+@[A-Za-z0-9.-]+\\.[A-Z|a-z]{2,}\" # ambil chat gpt\n",
    "email = re.findall(email_pattern, txt)\n",
    "\n",
    "for mail in email:\n",
    "    username = mail.split(\"@\")[0]\n",
    "    password = get_password()\n",
    "    print(f\"{mail} username: {username}, password: {password}\")"
   ]
  }
 ],
 "metadata": {
  "kernelspec": {
   "display_name": "Python 3",
   "language": "python",
   "name": "python3"
  },
  "language_info": {
   "codemirror_mode": {
    "name": "ipython",
    "version": 3
   },
   "file_extension": ".py",
   "mimetype": "text/x-python",
   "name": "python",
   "nbconvert_exporter": "python",
   "pygments_lexer": "ipython3",
   "version": "3.10.12"
  }
 },
 "nbformat": 4,
 "nbformat_minor": 2
}
