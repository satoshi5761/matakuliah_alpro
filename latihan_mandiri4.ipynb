{
 "cells": [
  {
   "cell_type": "code",
   "execution_count": 4,
   "metadata": {},
   "outputs": [
    {
     "name": "stdout",
     "output_type": "stream",
     "text": [
      "True\n",
      "True\n",
      "False\n",
      "False\n"
     ]
    }
   ],
   "source": [
    "def cek_angka(x: int, y: int, z: int) -> bool:\n",
    "\t\"\"\"\n",
    "\tcek jika angka x, y, z berbeda\n",
    "\tdan jika x + y == z atau x + z == y atau y + z == x\n",
    "\t\"\"\"\n",
    "\treturn True if x != y != z != x and (x + y == z or x + z == y or y + z == x) else False\n",
    "\n",
    "print(cek_angka(1, 2, 3)) # True\n",
    "print(cek_angka(1, 5, 6)) # True\n",
    "print(cek_angka(1, 1, 2)) # False\n",
    "print(cek_angka(8, 10, 31)) # False"
   ]
  },
  {
   "cell_type": "code",
   "execution_count": 2,
   "metadata": {},
   "outputs": [
    {
     "name": "stdout",
     "output_type": "stream",
     "text": [
      "True\n",
      "True\n",
      "False\n",
      "True\n",
      "False\n",
      "True\n"
     ]
    }
   ],
   "source": [
    "def cek_digit_belakang(x: int, y: int, z: int) -> bool:\n",
    "\t\"\"\"\n",
    "\tminimal 2 dari parameter memiliki digit akhir yang sama\n",
    "\t\"\"\"\n",
    "\tdx, dy, dz = x % 10, y % 10, z % 10\n",
    "\treturn True if dx == dy or dx == dz or dy == dz else False\n",
    "\n",
    "print(cek_digit_belakang(30, 20, 18)) # True\n",
    "print(cek_digit_belakang(145, 5, 100)) # True\n",
    "print(cek_digit_belakang(71, 187, 18)) # False\n",
    "print(cek_digit_belakang(1024, 14, 94)) # True\n",
    "print(cek_digit_belakang(53, 8900, 658)) # False\n",
    "print(cek_digit_belakang(105243, 10425243, 1034253)) # True"
   ]
  },
  {
   "cell_type": "code",
   "execution_count": 5,
   "metadata": {},
   "outputs": [
    {
     "name": "stdout",
     "output_type": "stream",
     "text": [
      "212.0\n",
      "64.0\n",
      "32.0\n"
     ]
    }
   ],
   "source": [
    "celcius_to_fahrenheit = lambda c : (9/5)*c + 32\n",
    "celcius_to_reamur = lambda c : 0.8*c\n",
    "\n",
    "print(celcius_to_fahrenheit(100))\n",
    "print(celcius_to_reamur(80))\n",
    "print(celcius_to_fahrenheit(0))"
   ]
  }
 ],
 "metadata": {
  "kernelspec": {
   "display_name": "Python 3",
   "language": "python",
   "name": "python3"
  },
  "language_info": {
   "codemirror_mode": {
    "name": "ipython",
    "version": 3
   },
   "file_extension": ".py",
   "mimetype": "text/x-python",
   "name": "python",
   "nbconvert_exporter": "python",
   "pygments_lexer": "ipython3",
   "version": "3.11.8"
  }
 },
 "nbformat": 4,
 "nbformat_minor": 2
}
