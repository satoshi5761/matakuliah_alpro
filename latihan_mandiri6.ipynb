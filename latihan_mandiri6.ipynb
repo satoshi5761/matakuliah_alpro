{
 "cells": [
  {
   "cell_type": "code",
   "execution_count": 8,
   "metadata": {},
   "outputs": [
    {
     "name": "stdout",
     "output_type": "stream",
     "text": [
      "7\n"
     ]
    }
   ],
   "source": [
    "n = int(input(\"Masukkan n: \"))\n",
    "if n <= 2:\n",
    "    print(\"doesn\\'t exist\")\n",
    "else:\n",
    "    for possible_prime in range(n - 1, 1, -1):\n",
    "        for i in range(2, possible_prime - 1):\n",
    "            if possible_prime % i == 0:\n",
    "                break\n",
    "        else:\n",
    "            print(possible_prime)\n",
    "            break"
   ]
  },
  {
   "cell_type": "code",
   "execution_count": 21,
   "metadata": {},
   "outputs": [
    {
     "name": "stdout",
     "output_type": "stream",
     "text": [
      "3628800 10 9 8 7 6 5 4 3 2 1 \n",
      "362880 9 8 7 6 5 4 3 2 1 \n",
      "40320 8 7 6 5 4 3 2 1 \n",
      "5040 7 6 5 4 3 2 1 \n",
      "720 6 5 4 3 2 1 \n",
      "120 5 4 3 2 1 \n",
      "24 4 3 2 1 \n",
      "6 3 2 1 \n",
      "2 2 1 \n",
      "1 1 \n"
     ]
    }
   ],
   "source": [
    "n = int(input(\"Masukkan n: \"))\n",
    "for i in range(n):\n",
    "    for j in range(n - i + 1, 0, -1):\n",
    "        num = 1\n",
    "        if j == n - i + 1:\n",
    "            for k in range(1, j):\n",
    "                num = num * k\n",
    "            print(num, end=' ')\n",
    "        else:\n",
    "            print(j, end=' ')\n",
    "    print()"
   ]
  },
  {
   "cell_type": "code",
   "execution_count": 50,
   "metadata": {},
   "outputs": [
    {
     "name": "stdout",
     "output_type": "stream",
     "text": [
      "3628800 10 9 8 7 6 5 4 3 2 1 \n",
      "362880 9 8 7 6 5 4 3 2 1 \n",
      "40320 8 7 6 5 4 3 2 1 \n",
      "5040 7 6 5 4 3 2 1 \n",
      "720 6 5 4 3 2 1 \n",
      "120 5 4 3 2 1 \n",
      "24 4 3 2 1 \n",
      "6 3 2 1 \n",
      "2 2 1 \n",
      "1 1\n"
     ]
    }
   ],
   "source": [
    "# nyoba recursion\n",
    "\n",
    "def f(n):\n",
    "    if n == 1:\n",
    "        return 1\n",
    "    return f(n - 1) * n\n",
    "\n",
    "def ff(n):\n",
    "    if n == 1:\n",
    "        print(1, 1)\n",
    "        return\n",
    "    print(f(n), end=' ')\n",
    "    for i in range(n, 0, -1):\n",
    "        print(i, end=' ')\n",
    "    print()\n",
    "    return(ff(n - 1))\n",
    "\n",
    "ff(10)"
   ]
  },
  {
   "cell_type": "code",
   "execution_count": 59,
   "metadata": {},
   "outputs": [
    {
     "name": "stdout",
     "output_type": "stream",
     "text": [
      "1 2 3 4 \n",
      "5 6 7 8 \n",
      "9 10 11 12 \n",
      "13 14 15 16 \n",
      "17 18 19 20 \n"
     ]
    }
   ],
   "source": [
    "tinggi, lebar = int(input(\"tinggi = \")), int(input(\"lebar = \"))\n",
    "\n",
    "def f(tinggi, lebar, value=1):\n",
    "    for i in range(tinggi):\n",
    "        for j in range(lebar):\n",
    "            print(value, end=' ')\n",
    "            value += 1\n",
    "        print()\n",
    "\n",
    "f(tinggi, lebar)\n"
   ]
  }
 ],
 "metadata": {
  "kernelspec": {
   "display_name": "Python 3",
   "language": "python",
   "name": "python3"
  },
  "language_info": {
   "codemirror_mode": {
    "name": "ipython",
    "version": 3
   },
   "file_extension": ".py",
   "mimetype": "text/x-python",
   "name": "python",
   "nbconvert_exporter": "python",
   "pygments_lexer": "ipython3",
   "version": "3.10.12"
  }
 },
 "nbformat": 4,
 "nbformat_minor": 2
}
