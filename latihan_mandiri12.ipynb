{
 "cells": [
  {
   "cell_type": "code",
   "execution_count": 3,
   "metadata": {
    "metadata": {}
   },
   "outputs": [
    {
     "name": "stdout",
     "output_type": "stream",
     "text": [
      "True\n",
      "True\n",
      "False\n"
     ]
    }
   ],
   "source": [
    "\"\"\"\n",
    "Latihan 11.1 Buatlah program untuk melakukan pengecekan apakah semua anggota yang ada\n",
    "didalam tuple sama.\n",
    "\"\"\"\n",
    "\n",
    "def cek_tuple_sama(tup: tuple) -> bool:\n",
    "    pertama = tup[0]\n",
    "    for i in range(1, len(tup)): # looping cek satu satu\n",
    "        if tup[i] != pertama: # ketemu yang berbeda\n",
    "            return False \n",
    "    return True\n",
    "\n",
    "print(cek_tuple_sama((90, 90, 90, 90, 90)))\n",
    "print(cek_tuple_sama((1,)))\n",
    "print(cek_tuple_sama((3, 8, 8)))"
   ]
  },
  {
   "cell_type": "code",
   "execution_count": 6,
   "metadata": {
    "metadata": {}
   },
   "outputs": [
    {
     "name": "stdout",
     "output_type": "stream",
     "text": [
      "NIM    :  71231002\n",
      "NAMA   :  Philip Deric Kho\n",
      "ALAMAT :  Yogyakarta\n",
      "\n",
      "NIM: ('7', '1', '2', '3', '1', '0', '0', '2')\n",
      "\n",
      "NAMA DEPAN: ('h', 'i', 'l', 'i', 'p')\n",
      "\n",
      "NAMA TERBALIK: ('Kho', 'Deric', 'Philip')\n"
     ]
    }
   ],
   "source": [
    "\"\"\"\n",
    "Latihan 11.2 Buatlah program dengan menggunakan tuple yang dapat melalakukan proses\n",
    "seperti pada kasus 11.1, Gunakan data diri anda masing-masing dan lakukan perubahan supaya\n",
    "didapatkan output seperti contoh berikut ini :\n",
    "\"\"\"\n",
    "\n",
    "def data_diri(data: tuple) -> None:\n",
    "    \"\"\"\n",
    "    data berisi nama lengkap, nim, dan asal daerah\n",
    "    \"\"\"\n",
    "    NAMA_LENGKAP = data[0]\n",
    "    NAMA_DEPAN = NAMA_LENGKAP.split()[0]\n",
    "    NIM = str(data[1])\n",
    "    ALAMAT = data[2]\n",
    "\n",
    "    print(f\"NIM    :  {NIM}\")\n",
    "    print(f\"NAMA   :  {NAMA_LENGKAP}\")\n",
    "    print(f\"ALAMAT :  {ALAMAT}\")\n",
    "    print()\n",
    "    print(\"NIM:\", tuple(NIM))\n",
    "    print()\n",
    "    print(\"NAMA DEPAN:\", tuple(NAMA_DEPAN[1:]))\n",
    "    print()\n",
    "    print(\"NAMA TERBALIK:\", tuple(reversed(NAMA_LENGKAP.split())))\n",
    "\n",
    "\n",
    "data_diri((\"Philip Deric Kho\", 71231002, \"Yogyakarta\"))\n",
    "\n"
   ]
  },
  {
   "cell_type": "code",
   "execution_count": 7,
   "metadata": {},
   "outputs": [
    {
     "name": "stdout",
     "output_type": "stream",
     "text": [
      "04 3\n",
      "06 1\n",
      "07 1\n",
      "09 2\n",
      "10 3\n",
      "11 6\n",
      "14 1\n",
      "15 2\n",
      "16 4\n",
      "17 2\n",
      "18 1\n",
      "19 1\n"
     ]
    }
   ],
   "source": [
    "from collections import defaultdict\n",
    "\n",
    "input_file = input(\"Masukkan nama file: \")\n",
    "try:\n",
    "    input_file = open(input_file).read().strip()\n",
    "except:\n",
    "    print(\"file tidak ada\")\n",
    "    exit()\n",
    "\n",
    "d = defaultdict(int)\n",
    "for line in input_file.split('\\n'):\n",
    "    if line.startswith(\"From \"):\n",
    "        hour = line.split()[-2].split(':')[0] # ambil jam\n",
    "        d[hour] += 1\n",
    "\n",
    "for (key, val) in sorted(d.items(), key=lambda x : int(x[0])):\n",
    "    print(key, val)\n"
   ]
  }
 ],
 "metadata": {
  "kernelspec": {
   "display_name": "Python 3",
   "language": "python",
   "name": "python3"
  },
  "language_info": {
   "codemirror_mode": {
    "name": "ipython",
    "version": 3
   },
   "file_extension": ".py",
   "mimetype": "text/x-python",
   "name": "python",
   "nbconvert_exporter": "python",
   "pygments_lexer": "ipython3",
   "version": "3.10.12"
  }
 },
 "nbformat": 4,
 "nbformat_minor": 2
}
