{
 "cells": [
  {
   "cell_type": "code",
   "execution_count": 1,
   "metadata": {},
   "outputs": [
    {
     "name": "stdout",
     "output_type": "stream",
     "text": [
      "True\n",
      "True\n",
      "True\n",
      "False\n"
     ]
    }
   ],
   "source": [
    "\"\"\"\n",
    "Latihan 13.1 Vidi adalah adik Tono yang sedang belajar bilangan prima. Vidi mengalami kesu-\n",
    "litan untuk menentukan suatu bilangan bilangan prima atau bukan. Untuk membantu adiknya\n",
    "Tono kemudian membuat program untuk pengecekan bilangan prima dengan menggunakan\n",
    "fungsi rekursif. Bantulah Tono untuk menyelesaikan tugas tersebut.\n",
    "\"\"\"\n",
    "\n",
    "def check_prime(n, start=2):\n",
    "    # base case\n",
    "    if n <= 1:\n",
    "        return False\n",
    "    if n == 2:\n",
    "        return True\n",
    "    if start == n:\n",
    "        return True\n",
    "    \n",
    "    # base case\n",
    "    if n % start == 0:\n",
    "        return False\n",
    "\n",
    "    # recursive case\n",
    "    return check_prime(n, start + 1)\n",
    "\n",
    "print(check_prime(2))\n",
    "print(check_prime(3))\n",
    "print(check_prime(5))\n",
    "print(check_prime(12))\n"
   ]
  },
  {
   "cell_type": "code",
   "execution_count": 2,
   "metadata": {},
   "outputs": [
    {
     "name": "stdout",
     "output_type": "stream",
     "text": [
      "True\n",
      "True\n",
      "False\n",
      "True\n"
     ]
    }
   ],
   "source": [
    "\"\"\"\n",
    "Buatlah fungsi rekursif mengetahui suatu kalimat adalah palindrom atau bukan!\n",
    "\"\"\"\n",
    "\n",
    "def check_palindrome(s):\n",
    "    # base case\n",
    "    if len(s) <= 1:\n",
    "        return True\n",
    "    if len(s) == 2:\n",
    "        return s[0] == s[1]\n",
    "    if s[0] != s[-1]:\n",
    "        return False\n",
    "    \n",
    "    # recursive case\n",
    "    return check_palindrome(s[1:-1])\n",
    "\n",
    "print(check_palindrome(\"kasurrusak\"))\n",
    "print(check_palindrome(\"nisioisin\"))\n",
    "print(check_palindrome(\"bukanpalindrome\"))\n",
    "print(check_palindrome(\"a\"))\n"
   ]
  },
  {
   "cell_type": "code",
   "execution_count": 3,
   "metadata": {},
   "outputs": [
    {
     "name": "stdout",
     "output_type": "stream",
     "text": [
      "4\n",
      "9\n",
      "16\n"
     ]
    }
   ],
   "source": [
    "\"\"\"\n",
    "Buatlah fungsi rekursif untuk menghitung jumlah deret ganjil dari 1 + 3 + 7 + . . . + n!\n",
    "\"\"\"\n",
    "def jumlah_deret_ganjil(n):\n",
    "    # base case\n",
    "    if n == 1:\n",
    "        return 1\n",
    "    \n",
    "    # recursive case\n",
    "    return n + jumlah_deret_ganjil(n - 2)\n",
    "\n",
    "print(jumlah_deret_ganjil(3))\n",
    "print(jumlah_deret_ganjil(5))\n",
    "print(jumlah_deret_ganjil(7))\n"
   ]
  },
  {
   "cell_type": "code",
   "execution_count": null,
   "metadata": {},
   "outputs": [],
   "source": [
    "\"\"\"\n",
    "Buatlah fungsi rekursif untuk mengetahui jumlah digit dari suatu bilangan. Seperti\n",
    "misalnya tulisan: \"234\" maka jumlah digitnya adalah 2+3+4 = 9!\n",
    "\"\"\"\n",
    "\n",
    "def jumlah_digit(n):\n",
    "    # base case\n",
    "    if len(n) == 1:\n",
    "        return int(n)\n",
    "    \n",
    "    # recursive case\n",
    "    return int(n[-1]) + jumlah_digit(n[:-1])\n",
    "\n",
    "print(jumlah_digit(\"234\"))"
   ]
  },
  {
   "cell_type": "code",
   "execution_count": 6,
   "metadata": {},
   "outputs": [
    {
     "name": "stdout",
     "output_type": "stream",
     "text": [
      "10\n"
     ]
    }
   ],
   "source": [
    "\"\"\"\n",
    "Buatlah fungsi rekursif untuk menghitung kombinasi!\n",
    "\"\"\"\n",
    "def combination(n, r):\n",
    "    # base case\n",
    "    if n - r == 0:\n",
    "        return 1\n",
    "    \n",
    "    # recursive case\n",
    "    return n / (n - r) * combination(n - 1, r)\n",
    "\n",
    "print(int(combination(10, 9)))"
   ]
  }
 ],
 "metadata": {
  "kernelspec": {
   "display_name": "base",
   "language": "python",
   "name": "python3"
  },
  "language_info": {
   "codemirror_mode": {
    "name": "ipython",
    "version": 3
   },
   "file_extension": ".py",
   "mimetype": "text/x-python",
   "name": "python",
   "nbconvert_exporter": "python",
   "pygments_lexer": "ipython3",
   "version": "3.10.12"
  }
 },
 "nbformat": 4,
 "nbformat_minor": 2
}
