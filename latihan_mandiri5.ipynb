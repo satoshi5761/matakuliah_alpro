{
 "cells": [
  {
   "cell_type": "code",
   "execution_count": 4,
   "metadata": {},
   "outputs": [
    {
     "name": "stdout",
     "output_type": "stream",
     "text": [
      "30\n",
      "70\n",
      "0\n"
     ]
    }
   ],
   "source": [
    "def perkalian(x, y):\n",
    "    result = 0\n",
    "    for _ in range(x):\n",
    "        result = result + y\n",
    "    return result\n",
    "\n",
    "print(perkalian(6, 5))\n",
    "print(perkalian(7, 10))\n",
    "print(perkalian(0, 1))"
   ]
  },
  {
   "cell_type": "code",
   "execution_count": 26,
   "metadata": {},
   "outputs": [
    {
     "name": "stdout",
     "output_type": "stream",
     "text": [
      "11 13 15 17 19 21 23 25 27 29 \n",
      "97 95 93 91 89 87 85 83 \n",
      "1 3 \n",
      "3 1 \n",
      "3 \n"
     ]
    }
   ],
   "source": [
    "def bilangan_ganjil(batas_bawah, batas_atas):\n",
    "    if batas_bawah > batas_atas:\n",
    "        for i in range(batas_bawah, batas_atas - 1, -1):\n",
    "            if i % 2 != 0:\n",
    "                print(i, end=' ')\n",
    "        print()\n",
    "    else:\n",
    "        for i in range(batas_bawah, batas_atas + 1):\n",
    "            if i % 2 != 0:\n",
    "                print(i, end=' ')\n",
    "        print()\n",
    "\n",
    "bilangan_ganjil(10, 30)\n",
    "bilangan_ganjil(97, 82)\n",
    "bilangan_ganjil(1, 3)\n",
    "bilangan_ganjil(3, 1)\n",
    "bilangan_ganjil(4, 2)"
   ]
  },
  {
   "cell_type": "code",
   "execution_count": 31,
   "metadata": {},
   "outputs": [
    {
     "name": "stdout",
     "output_type": "stream",
     "text": [
      "Nilai IPS Anda semester ini: 2.67\n"
     ]
    }
   ],
   "source": [
    "d = {\n",
    "    \"A\": 4,\n",
    "    \"B\": 3,\n",
    "    \"C\": 2,\n",
    "    \"D\": 1\n",
    "}\n",
    "\n",
    "jumlah_matkul = int(input(\"Jumlah mata kuliah: \"))\n",
    "total_sks = jumlah_matkul * 3\n",
    "ip = 0\n",
    "\n",
    "for i in range(1, jumlah_matkul + 1):\n",
    "    nilai_matkul = input(f\"Nilai MK {i}: \")\n",
    "    ip = ip + d[nilai_matkul] * 3\n",
    "    \n",
    "ip = ip / total_sks\n",
    "print(\"Nilai IPS Anda semester ini:\", round(ip, 2))\n"
   ]
  }
 ],
 "metadata": {
  "kernelspec": {
   "display_name": "Python 3",
   "language": "python",
   "name": "python3"
  },
  "language_info": {
   "codemirror_mode": {
    "name": "ipython",
    "version": 3
   },
   "file_extension": ".py",
   "mimetype": "text/x-python",
   "name": "python",
   "nbconvert_exporter": "python",
   "pygments_lexer": "ipython3",
   "version": "3.10.12"
  }
 },
 "nbformat": 4,
 "nbformat_minor": 2
}
