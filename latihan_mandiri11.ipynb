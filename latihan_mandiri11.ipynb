{
 "cells": [
  {
   "cell_type": "code",
   "execution_count": 15,
   "metadata": {
    "metadata": {}
   },
   "outputs": [
    {
     "name": "stdout",
     "output_type": "stream",
     "text": [
      "key                 value               item\n",
      "shnea               827                 1\n",
      "8732                sohe                2\n",
      "83                  snea                3\n"
     ]
    }
   ],
   "source": [
    "\"\"\"\n",
    "Latihan 10.1 Bualah sebuah program untuk mendapatkan nilai key, value, dan item dari sebuah\n",
    "dictionary\n",
    "\"\"\"\n",
    "d = {1: 10, 2: 20, 3: 30, 4: 40, 5: 50, 6: 60}\n",
    "TOTAL_CHAR = 20\n",
    "\n",
    "k, v = 3, 5 # panjang string key = 3 dan string value = 5\n",
    "print(\"key\", end=' ' * (TOTAL_CHAR - k)) # total = TOTAL_CHAR\n",
    "print(\"value\", end=' ' * (TOTAL_CHAR - v)) # total = TOTAL_CHAR\n",
    "print(\"item\")\n",
    "\n",
    "idx = 1\n",
    "for (key, value) in d.items():\n",
    "    key = str(key) # jadikan str\n",
    "    value = str(value) # jadikan str\n",
    "\n",
    "    key_char = len(key) # cari panjang\n",
    "    value_char = len(value) # cari panjang\n",
    "\n",
    "    print(key, end=' ' * (TOTAL_CHAR - key_char)) # kalkulasi spasi yang dibutuhkan\n",
    "    print(value, end=' ' * (TOTAL_CHAR - value_char)) # kalkulasi spasi yang dibutuhkan\n",
    "    print(idx)\n",
    "\n",
    "    idx = idx + 1\n"
   ]
  },
  {
   "cell_type": "code",
   "execution_count": 17,
   "metadata": {
    "metadata": {}
   },
   "outputs": [
    {
     "name": "stdout",
     "output_type": "stream",
     "text": [
      "{'red': '#FF0000', 'green': '#008000', 'blue': '#0000FF'}\n"
     ]
    }
   ],
   "source": [
    "\"\"\"\n",
    "Latihan 10.2 Bualah sebuah program untuk memetakan dua list mejadi satu dictionary.\n",
    "\"\"\"\n",
    "def list_zip(Lista, Listb):\n",
    "    d = {}\n",
    "    for (ini_a, ini_b) in zip(Lista, Listb):\n",
    "        d[ini_a] = ini_b\n",
    "    \n",
    "    return d\n",
    "\n",
    "Lista = ['red', 'green', 'blue']\n",
    "Listb = ['#FF0000','#008000', '#0000FF']\n",
    "print(list_zip(Lista, Listb))"
   ]
  },
  {
   "cell_type": "code",
   "execution_count": 21,
   "metadata": {
    "metadata": {}
   },
   "outputs": [
    {
     "name": "stdout",
     "output_type": "stream",
     "text": [
      "{'stephen.marquard@uct.ac.za': 2, 'louis@media.berkeley.edu': 3, 'zqian@umich.edu': 4, 'rjlowe@iupui.edu': 2, 'cwen@iupui.edu': 5, 'gsilver@umich.edu': 3, 'wagnermr@iupui.edu': 1, 'antranig@caret.cam.ac.uk': 1, 'gopal.ramasammycook@gmail.com': 1, 'david.horwitz@uct.ac.za': 4, 'ray@media.berkeley.edu': 1}\n"
     ]
    }
   ],
   "source": [
    "\"\"\"\n",
    "Latihan 10.3 Dengan menggunakan file mbox-short.txt, buatlah program yang dapat membaca\n",
    "log email dan sajikan dalam histogram menggunakan dictionary. Kemudian hitung berapa\n",
    "banyak pesan yang masuk dari email dan sajikan dalam bentuk dictionary.\n",
    "\"\"\"\n",
    "from collections import defaultdict\n",
    "\n",
    "\n",
    "input_file = input(\"Masukkan nama file: \")\n",
    "# handle file not found\n",
    "try:\n",
    "    input_file = open(input_file).read().strip()\n",
    "except:\n",
    "    print(\"no file detected\")\n",
    "    exit()\n",
    "\n",
    "\n",
    "email_counter = defaultdict(int)\n",
    "for line in input_file.split('\\n'): # split per baris\n",
    "    if line.startswith(\"From \"):\n",
    "        email_pengirim = line.split(\" \")[1] # email pengirim\n",
    "        email_counter[email_pengirim] += 1 # tambahkan\n",
    "\n",
    "email_counter = dict(email_counter) # konversi dictionary \n",
    "print(email_counter)\n"
   ]
  },
  {
   "cell_type": "code",
   "execution_count": 6,
   "metadata": {
    "metadata": {}
   },
   "outputs": [
    {
     "name": "stdout",
     "output_type": "stream",
     "text": [
      "{'uct.ac.za': 6, 'media.berkeley.edu': 4, 'umich.edu': 7, 'iupui.edu': 8, 'caret.cam.ac.uk': 1, 'gmail.com': 1}\n"
     ]
    }
   ],
   "source": [
    "\"\"\"\n",
    "atihan 10.4 Dengan menggunakan file mbox-short.txt, buat program untuk mencatat data\n",
    "nama domain pengirim pesan. Hitunglah jumlah pesan yang dikirim masing-masing domain.\n",
    "sajikan dalam bentuk dictionary.\n",
    "\"\"\"\n",
    "from collections import defaultdict\n",
    "\n",
    "input_file = input(\"Masukkan nama file: \")\n",
    "# handle file not found\n",
    "try:\n",
    "    input_file = open(input_file).read().strip()\n",
    "except:\n",
    "    print(\"no file detected\")\n",
    "    exit()\n",
    "\n",
    "\n",
    "domain_counter = defaultdict(int)\n",
    "for line in input_file.split('\\n'):\n",
    "    if line.startswith(\"From \"):\n",
    "        domain = line.split(\" \")[1].split('@')[1] # dapatkan domain\n",
    "        domain_counter[domain] += 1\n",
    "\n",
    "domain_counter = dict(domain_counter) # konversi dictionary\n",
    "print(domain_counter)"
   ]
  }
 ],
 "metadata": {
  "kernelspec": {
   "display_name": "Python 3",
   "language": "python",
   "name": "python3"
  },
  "language_info": {
   "codemirror_mode": {
    "name": "ipython",
    "version": 3
   },
   "file_extension": ".py",
   "mimetype": "text/x-python",
   "name": "python",
   "nbconvert_exporter": "python",
   "pygments_lexer": "ipython3",
   "version": "3.10.12"
  }
 },
 "nbformat": 4,
 "nbformat_minor": 2
}
