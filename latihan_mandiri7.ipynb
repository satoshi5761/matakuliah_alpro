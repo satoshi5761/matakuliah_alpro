{
 "cells": [
  {
   "cell_type": "code",
   "execution_count": 3,
   "metadata": {},
   "outputs": [
    {
     "name": "stdout",
     "output_type": "stream",
     "text": [
      "Anagram\n"
     ]
    }
   ],
   "source": [
    "from collections import Counter\n",
    "\n",
    "\"\"\"\n",
    "Latihan 7.1 Buatlah sebuah program yang dapat mendeteksi apakah suatu kata adalah anagram\n",
    "dari kata lainnya atau bukan! Anagram adalah kata yang dibolak-balik susunan hurufnya sama.\n",
    "Misal: mata anagram dengan atma, maat, taam, tama, dsb.\n",
    "\"\"\"\n",
    "word = input(\"Masukkan kata pertama: \")\n",
    "possible_anagram = input(\"Masukkan kata kedua: \")\n",
    "\n",
    "count_word = Counter(word)\n",
    "count_possible_anagram = Counter(possible_anagram)\n",
    "\n",
    "if count_word == count_possible_anagram:\n",
    "    print(\"Anagram\")\n",
    "else:\n",
    "    print(\"Bukan Anagram\")"
   ]
  },
  {
   "cell_type": "code",
   "execution_count": 4,
   "metadata": {},
   "outputs": [
    {
     "name": "stdout",
     "output_type": "stream",
     "text": [
      "3\n"
     ]
    }
   ],
   "source": [
    "\"\"\"\n",
    "Latihan 7.2 Buatlah suatu program yang dapat menghitung frekuensi kemunculan suatu kata\n",
    "yang ada pada String. Misal terdapat kalimat \"Saya mau makan. Makan itu wajib. Mau siang\n",
    "atau malam saya wajib makan\". Ditanyakan kata \"makan\". Output: makan ada 3 buah ■\n",
    "\"\"\"\n",
    "\n",
    "word = input(\"Masukkan kata: \").lower()\n",
    "find_word = input(\"Masukkan kata yang dicari: \").lower()\n",
    "\n",
    "print(word.count(find_word))"
   ]
  },
  {
   "cell_type": "code",
   "execution_count": 5,
   "metadata": {},
   "outputs": [
    {
     "name": "stdout",
     "output_type": "stream",
     "text": [
      "ioneat dunat sdntai ut a\n"
     ]
    }
   ],
   "source": [
    "\"\"\"\n",
    "Latihan 7.3 Buatlah suatu program yang dapat menghapus semua spasi yang berlebih pada\n",
    "sebuah string, dan menjadikannya satu spasi normal! Misal: \"saya tidak suka memancing ikan \"\n",
    "Output: \"saya tidak suka memancing ikan\" \n",
    "\"\"\"\n",
    "\n",
    "word = input(\"Masukkan kata: \")\n",
    "print(word.strip())"
   ]
  },
  {
   "cell_type": "code",
   "execution_count": 6,
   "metadata": {},
   "outputs": [
    {
     "name": "stdout",
     "output_type": "stream",
     "text": [
      "kata terpendek: a\n",
      "kata terpanjang: snakes\n"
     ]
    }
   ],
   "source": [
    "\"\"\"\n",
    "Latihan 7.4 Buatlah suatu program mengetahui kata terpendek dan terpanjang dari suatu\n",
    "kalimat yang diinputkan! Misal: \"red snakes and a black frog in the pool\" Output: terpendek: a,\n",
    "terpanjang: snakes\n",
    "\"\"\"\n",
    "words_dict = {}\n",
    "words = input(\"Masukkan kata: \")\n",
    "for word in words.split():\n",
    "    words_dict[len(word)] = word\n",
    "\n",
    "print(\"kata terpendek:\", words_dict[min(words_dict)])\n",
    "print(\"kata terpanjang:\", words_dict[max(words_dict)])"
   ]
  }
 ],
 "metadata": {
  "kernelspec": {
   "display_name": "Python 3",
   "language": "python",
   "name": "python3"
  },
  "language_info": {
   "codemirror_mode": {
    "name": "ipython",
    "version": 3
   },
   "file_extension": ".py",
   "mimetype": "text/x-python",
   "name": "python",
   "nbconvert_exporter": "python",
   "pygments_lexer": "ipython3",
   "version": "3.10.12"
  }
 },
 "nbformat": 4,
 "nbformat_minor": 2
}
