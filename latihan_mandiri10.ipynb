{
 "cells": [
  {
   "cell_type": "code",
   "execution_count": 2,
   "metadata": {},
   "outputs": [
    {
     "name": "stdout",
     "output_type": "stream",
     "text": [
      "9 8 8\n",
      "1 1 1\n",
      "233 100 3\n"
     ]
    }
   ],
   "source": [
    "\"\"\"\n",
    "Latihan 9.1 Buatlah sebuah program untuk mencara 3 nilai terbaik\n",
    "pada sebuah list. Program menampilkan 3 nilai terbaik dimulai dari \n",
    "yang paling tinggi\n",
    "\"\"\"\n",
    "\n",
    "def three_best(lst: list[int]) -> None:\n",
    "    lst.sort()\n",
    "    print(lst[len(lst) - 1], lst[len(lst) - 2], lst[len(lst) - 3])\n",
    "\n",
    "\n",
    "three_best([3, 8, 8, 9])\n",
    "three_best([1, 1, 1])\n",
    "three_best([0, 3, 100, 233])"
   ]
  },
  {
   "cell_type": "code",
   "execution_count": 6,
   "metadata": {},
   "outputs": [
    {
     "name": "stdout",
     "output_type": "stream",
     "text": [
      "nilai maksimum: 134422\n",
      "nilai minimum: 31\n"
     ]
    }
   ],
   "source": [
    "\"\"\"\n",
    "Latihan 9.2 Buatlah sebuah program meminta masukan user\n",
    "dalam bentuk angka hingga user memasukkan 'done', maka program\n",
    "menampilkan nilai maksimum dan minimum\n",
    "\"\"\"\n",
    "lst = []\n",
    "usr = input()\n",
    "while usr != \"done\":\n",
    "    lst.append(int(usr))\n",
    "    usr = input()\n",
    "\n",
    "print(\"nilai maksimum:\", max(lst))\n",
    "print(\"nilai minimum:\", min(lst))\n"
   ]
  },
  {
   "cell_type": "code",
   "execution_count": 2,
   "metadata": {},
   "outputs": [
    {
     "name": "stdout",
     "output_type": "stream",
     "text": [
      "['Belajar', 'Tata', 'Krama', 'Saat', 'Makan', 'yang', 'Penting', 'Untuk', 'Diketahui!-', 'Saat', 'seseorang', 'hendak', 'menyantap', 'makanan', 'baik', 'itu', 'di', 'rumah', 'sendiri', 'maupun', 'di', 'restoran', 'makanan', 'manapun', 'ada', 'baiknya', 'tetap', 'mengutamakan', 'adab', 'dalam', 'memakannya.', 'Karena', 'penting', 'untuk', 'menjaga', 'adab', 'bahkan', 'ketika', 'makan', 'agar', 'makanan', 'yang', 'dicerna', 'juga', 'dapat', 'diolah', 'dengan', 'baik', 'oleh', 'tubuh', 'serta', 'tidak', 'mengganggu', 'kenyamanan', 'orang', 'sekitar', 'yang', 'sedang', 'menyantap', 'makanan', 'juga.']\n"
     ]
    }
   ],
   "source": [
    "\"\"\"\n",
    "Latihan 9.3\n",
    "baca file .txt baris per baris dan simpan setiap kata ke dalam\n",
    "ke dalam variable kata menggunakan split() \n",
    "\"\"\"\n",
    "input_file = open(\"artikel.txt\", 'r')\n",
    "\n",
    "line = input_file.readline().strip()\n",
    "kata = []\n",
    "while line != \"\":\n",
    "    kata_kata = line.split(\" \")\n",
    "    for k in range(len(kata_kata)):\n",
    "        kata_kata[k].strip()\n",
    "    kata.extend(kata_kata)\n",
    "    line = input_file.readline().strip()\n",
    "\n",
    "print(kata)\n",
    "\n",
    "input_file.close()\n"
   ]
  }
 ],
 "metadata": {
  "kernelspec": {
   "display_name": "Python 3",
   "language": "python",
   "name": "python3"
  },
  "language_info": {
   "codemirror_mode": {
    "name": "ipython",
    "version": 3
   },
   "file_extension": ".py",
   "mimetype": "text/x-python",
   "name": "python",
   "nbconvert_exporter": "python",
   "pygments_lexer": "ipython3",
   "version": "3.10.12"
  }
 },
 "nbformat": 4,
 "nbformat_minor": 2
}
