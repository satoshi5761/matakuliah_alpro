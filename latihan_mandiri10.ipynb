{
 "cells": [
  {
   "cell_type": "code",
   "execution_count": 2,
   "metadata": {},
   "outputs": [
    {
     "name": "stdout",
     "output_type": "stream",
     "text": [
      "9 8 8\n",
      "1 1 1\n",
      "233 100 3\n"
     ]
    }
   ],
   "source": [
    "\"\"\"\n",
    "Latihan 9.1 Buatlah sebuah program untuk mencara 3 nilai terbaik\n",
    "pada sebuah list. Program menampilkan 3 nilai terbaik dimulai dari \n",
    "yang paling tinggi\n",
    "\"\"\"\n",
    "\n",
    "def three_best(lst: list[int]) -> None:\n",
    "    lst.sort()\n",
    "    print(lst[len(lst) - 1], lst[len(lst) - 2], lst[len(lst) - 3])\n",
    "\n",
    "\n",
    "three_best([3, 8, 8, 9])\n",
    "three_best([1, 1, 1])\n",
    "three_best([0, 3, 100, 233])"
   ]
  },
  {
   "cell_type": "code",
   "execution_count": 6,
   "metadata": {},
   "outputs": [
    {
     "name": "stdout",
     "output_type": "stream",
     "text": [
      "nilai maksimum: 134422\n",
      "nilai minimum: 31\n"
     ]
    }
   ],
   "source": [
    "\"\"\"\n",
    "Latihan 9.2 Buatlah sebuah program meminta masukan user\n",
    "dalam bentuk angka hingga user memasukkan 'done', maka program\n",
    "menampilkan nilai maksimum dan minimum\n",
    "\"\"\"\n",
    "lst = []\n",
    "usr = input()\n",
    "while usr != \"done\":\n",
    "    lst.append(int(usr))\n",
    "    usr = input()\n",
    "\n",
    "print(\"nilai maksimum:\", max(lst))\n",
    "print(\"nilai minimum:\", min(lst))\n"
   ]
  },
  {
   "cell_type": "code",
   "execution_count": 6,
   "metadata": {},
   "outputs": [
    {
     "name": "stdout",
     "output_type": "stream",
     "text": [
      "['Belajar', 'Tata', 'Krama', 'Saat', 'Makan', 'yang', 'Penting', 'Untuk', 'Diketahui!-', 'seseorang', 'hendak', 'menyantap', 'makanan', 'baik', 'itu', 'di', 'rumah', 'sendiri', 'maupun', 'restoran', 'manapun', 'ada', 'baiknya', 'tetap', 'mengutamakan', 'adab', 'dalam', 'memakannya.', 'Karena', 'penting', 'untuk', 'menjaga', 'bahkan', 'ketika', 'makan', 'agar', 'dicerna', 'juga', 'dapat', 'diolah', 'dengan', 'oleh', 'tubuh', 'serta', 'tidak', 'mengganggu', 'kenyamanan', 'orang', 'sekitar', 'sedang', 'juga.', 'Ada', 'begitu', 'banyak', 'manfaat', 'bisa', 'didapat', 'dari', 'yaitu', 'ia', 'lebih', 'disiplin', 'karena', 'jam', 'teratur,', 'terburu-buru,', 'dan', 'berdoa', 'sebelum', 'adalah', 'bagian', 'makan.', 'Seseorang', 'adabnya', 'sehat', 'pastinya', 'kebersihan', 'pada', 'setiap', 'ingin', 'disantapnya.', 'Oleh', 'sangat', 'atau', 'tata', 'krama', 'sejak', 'usia', 'dini', 'bagi', 'sobat', 'grameds', 'sekalian', 'sudah', 'terbiasa', 'nantinya', 'disajikan', 'dimanapun', 'berada.', 'Maka', 'pembahasan', 'kali', 'ini', 'kami', 'telah', 'menyiapkan', 'informasi', 'terkait', 'diterapkan', 'sekalian.']\n",
      "jumlah kata makan: 1\n"
     ]
    }
   ],
   "source": [
    "\"\"\"\n",
    "Latihan 9.3\n",
    "baca file .txt baris per baris dan simpan setiap kata_unik ke dalam\n",
    "ke dalam variable kata_unik menggunakan split() \n",
    "\"\"\"\n",
    "input_file = open(\"artikel.txt\", 'r')\n",
    "\n",
    "kata_lst = []\n",
    "line = input_file.readline().strip()\n",
    "while line != \"\":\n",
    "    kata_kata = line.split(\" \")\n",
    "    for k in range(len(kata_kata)):\n",
    "        kata_kata[k].strip()\n",
    "    kata_lst.extend(kata_kata)\n",
    "    line = input_file.readline().strip()\n",
    "\n",
    "# hilangkan duplikat\n",
    "kata_unik = []\n",
    "for kata in kata_lst:\n",
    "    for unik in kata_unik:\n",
    "        if kata == unik:\n",
    "            break\n",
    "    else:\n",
    "        kata_unik.append(kata)\n",
    "\n",
    "print(kata_unik)\n",
    "\n",
    "count = 0\n",
    "for x in kata_unik:\n",
    "    if x == \"makan\":\n",
    "        count += 1\n",
    "\n",
    "print(\"jumlah kata makan:\", count)\n",
    "\n",
    "input_file.close()\n"
   ]
  }
 ],
 "metadata": {
  "kernelspec": {
   "display_name": "Python 3",
   "language": "python",
   "name": "python3"
  },
  "language_info": {
   "codemirror_mode": {
    "name": "ipython",
    "version": 3
   },
   "file_extension": ".py",
   "mimetype": "text/x-python",
   "name": "python",
   "nbconvert_exporter": "python",
   "pygments_lexer": "ipython3",
   "version": "3.10.12"
  }
 },
 "nbformat": 4,
 "nbformat_minor": 2
}
