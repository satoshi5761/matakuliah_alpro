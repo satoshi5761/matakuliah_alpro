{
 "cells": [
  {
   "cell_type": "code",
   "execution_count": 5,
   "metadata": {},
   "outputs": [],
   "source": [
    "from itertools import zip_longest\n",
    "\"\"\"\n",
    "Latihan 8.1 Buatlah sebuah program yang dapat membandingkan 2 buah file teks dan kemudian\n",
    "menampilkan perbedaan antar kedua teks per barisnya jika ada perbedaaan! \n",
    "\"\"\"\n",
    "\n",
    "def show_differences_file(file1: list[str], file2: list[str]) -> None:\n",
    "    current_line = 1\n",
    "    for (line1, line2) in zip_longest(file1, file2):\n",
    "        print(current_line)\n",
    "\n",
    "        if line1 and line2:\n",
    "\n",
    "            difference = []\n",
    "            for i in range(min(len(line1), len(line2))):\n",
    "                if line1[i] != line2[i]:\n",
    "                    difference.append('*')\n",
    "                else:\n",
    "                    difference.append('|')\n",
    "\n",
    "            selisih = abs(len(line1) - len(line2))\n",
    "            difference = difference + ['*'] * selisih\n",
    "\n",
    "            print(line1)\n",
    "            print(*difference, sep='')\n",
    "            print(line2)\n",
    "        \n",
    "        else:\n",
    "            if line1 and not line2:\n",
    "                print(line1)\n",
    "                print('-' * len(line1))\n",
    "                print(\"None\")\n",
    "            elif not line1 and line2:\n",
    "                print(\"None\")\n",
    "                print('-' * len(line2))\n",
    "                print(line2)\n",
    "            else:\n",
    "                print(\"None\")\n",
    "                print('----')\n",
    "                print(\"None\")\n",
    "\n",
    "        print()\n",
    "        current_line += 1\n",
    "\n",
    "\n",
    "file1 = input(\"Nama file pertama (txt): \")\n",
    "file2 = input(\"Nama file kedua (txt): \")\n",
    "\n",
    "input_file1 = open(file1, 'r').read().strip()\n",
    "input_file2 = open(file2, 'r').read().strip()\n",
    "\n",
    "input_file1 = input_file1.split('\\n')\n",
    "input_file2 = input_file2.split('\\n')\n",
    "\n",
    "show_differences_file(input_file1, input_file2)"
   ]
  },
  {
   "cell_type": "code",
   "execution_count": 2,
   "metadata": {},
   "outputs": [
    {
     "name": "stdout",
     "output_type": "stream",
     "text": [
      "[['1+1 =', '2'], ['Bendera Indonesia?', 'merah putih'], ['Kota gudeg adalah:', 'yogyakarta'], ['Komponen PC untuk penyimpanan file adalah...', 'harddisk'], ['50 * 20 =', '1000']]\n",
      "1+1 =\n",
      "Jawaban benar!\n",
      "Bendera Indonesia?\n",
      "Jawaban benar!\n",
      "Kota gudeg adalah:\n",
      "Jawaban salah!\n",
      "Komponen PC untuk penyimpanan file adalah...\n",
      "Jawaban benar!\n",
      "50 * 20 =\n",
      "Jawaban benar!\n"
     ]
    }
   ],
   "source": [
    "input_file = input(\"file soal = \")\n",
    "file_soal = open(input_file, 'r').read().strip().split(\"\\n\")\n",
    "\n",
    "for i in range(len(file_soal)):\n",
    "    file_soal[i] = file_soal[i].split(\" || \")\n",
    "    file_soal[i][1] = file_soal[i][1].lower()\n",
    "print(file_soal)\n",
    "for (soal, jawaban) in file_soal:\n",
    "    print(soal)\n",
    "    jawab = input(\"Jawab: \")\n",
    "\n",
    "    if jawab == jawaban:\n",
    "        print(\"Jawaban benar!\")\n",
    "    else:\n",
    "        print(\"Jawaban salah!\")\n"
   ]
  }
 ],
 "metadata": {
  "kernelspec": {
   "display_name": "Python 3",
   "language": "python",
   "name": "python3"
  },
  "language_info": {
   "codemirror_mode": {
    "name": "ipython",
    "version": 3
   },
   "file_extension": ".py",
   "mimetype": "text/x-python",
   "name": "python",
   "nbconvert_exporter": "python",
   "pygments_lexer": "ipython3",
   "version": "3.10.12"
  }
 },
 "nbformat": 4,
 "nbformat_minor": 2
}
